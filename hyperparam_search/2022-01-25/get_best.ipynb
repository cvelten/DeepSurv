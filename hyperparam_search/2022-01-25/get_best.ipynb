{
 "cells": [
  {
   "cell_type": "code",
   "execution_count": 1,
   "metadata": {},
   "outputs": [],
   "source": [
    "import pandas as pd"
   ]
  },
  {
   "cell_type": "code",
   "execution_count": 2,
   "metadata": {},
   "outputs": [],
   "source": [
    "import log_os_sbrt as os_sbrt\n",
    "import log_os_rfa as os_rfa\n",
    "import log_os_sbrtORrfa as os_sbrtorrfa\n",
    "import log_pfs_sbrt as pfs_sbrt\n",
    "import log_pfs_rfa as pfs_rfa\n",
    "import log_pfs_sbrtORrfa as pfs_sbrtorrfa"
   ]
  },
  {
   "cell_type": "code",
   "execution_count": 29,
   "metadata": {},
   "outputs": [
    {
     "name": "stdout",
     "output_type": "stream",
     "text": [
      "batch_norm                   False\n",
      "activation                    selu\n",
      "standardize                   True\n",
      "learning_rate          0.000001095\n",
      "lr_decay               0.000154854\n",
      "momentum                0.93373291\n",
      "L2_reg                 2.223504395\n",
      "dropout                0.357797852\n",
      "hidden_layers_sizes         [6, 6]\n",
      "CI                        0.738817\n",
      "TrainLoss                 9.455183\n",
      "Name: 120, dtype: object\n"
     ]
    }
   ],
   "source": [
    "df = pd.DataFrame(pfs_sbrtorrfa.logs)\n",
    "pd.set_option(\"display.precision\", 9)\n",
    "print(df.sort_values(by='CI', ascending=False).iloc[0])"
   ]
  },
  {
   "cell_type": "code",
   "execution_count": null,
   "metadata": {},
   "outputs": [],
   "source": []
  },
  {
   "cell_type": "code",
   "execution_count": null,
   "metadata": {},
   "outputs": [],
   "source": []
  }
 ],
 "metadata": {
  "interpreter": {
   "hash": "aee8b7b246df8f9039afb4144a1f6fd8d2ca17a180786b69acc140d282b71a49"
  },
  "kernelspec": {
   "display_name": "Python 3.9.9 64-bit",
   "language": "python",
   "name": "python3"
  },
  "language_info": {
   "codemirror_mode": {
    "name": "ipython",
    "version": 3
   },
   "file_extension": ".py",
   "mimetype": "text/x-python",
   "name": "python",
   "nbconvert_exporter": "python",
   "pygments_lexer": "ipython3",
   "version": "3.9.10"
  },
  "orig_nbformat": 4
 },
 "nbformat": 4,
 "nbformat_minor": 2
}
