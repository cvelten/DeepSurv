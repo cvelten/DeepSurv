{
 "cells": [
  {
   "cell_type": "code",
   "execution_count": 1,
   "metadata": {},
   "outputs": [],
   "source": [
    "import numpy as np\n",
    "import pandas as pd\n",
    "\n",
    "from glob import glob\n",
    "from os.path import basename"
   ]
  },
  {
   "cell_type": "markdown",
   "metadata": {},
   "source": [
    "User Input here:"
   ]
  },
  {
   "cell_type": "code",
   "execution_count": 4,
   "metadata": {},
   "outputs": [],
   "source": [
    "experiments = [\n",
    "\t'liver_os_sbrt',\n",
    "\t'liver_os_rfa',\n",
    "\t'liver_os_sbrtORrfa',\n",
    "\t'liver_pfs_sbrt',\n",
    "\t'liver_pfs_rfa',\n",
    "\t'liver_pfs_sbrtORrfa',\n",
    "]"
   ]
  },
  {
   "cell_type": "markdown",
   "metadata": {},
   "source": [
    "--- No User Input beyond this ---"
   ]
  },
  {
   "cell_type": "code",
   "execution_count": 5,
   "metadata": {},
   "outputs": [
    {
     "name": "stdout",
     "output_type": "stream",
     "text": [
      "Wrote XLSX file: ../experiments/results/liver_os_sbrt_rsf.xlsx\n",
      "Wrote XLSX file: ../experiments/results/liver_os_sbrt_deepsurv.xlsx\n",
      "Wrote XLSX file: ../experiments/results/liver_os_rfa_rsf.xlsx\n",
      "Wrote XLSX file: ../experiments/results/liver_os_rfa_deepsurv.xlsx\n",
      "Wrote XLSX file: ../experiments/results/liver_os_sbrtORrfa_rsf.xlsx\n",
      "Wrote XLSX file: ../experiments/results/liver_os_sbrtORrfa_deepsurv.xlsx\n",
      "Wrote XLSX file: ../experiments/results/liver_pfs_sbrt_rsf.xlsx\n",
      "Wrote XLSX file: ../experiments/results/liver_pfs_sbrt_deepsurv.xlsx\n",
      "Wrote XLSX file: ../experiments/results/liver_pfs_rfa_rsf.xlsx\n",
      "Wrote XLSX file: ../experiments/results/liver_pfs_rfa_deepsurv.xlsx\n",
      "Wrote XLSX file: ../experiments/results/liver_pfs_sbrtORrfa_rsf.xlsx\n",
      "Wrote XLSX file: ../experiments/results/liver_pfs_sbrtORrfa_deepsurv.xlsx\n"
     ]
    }
   ],
   "source": [
    "results_dir = '../experiments/results'\n",
    "\n",
    "for experiment in experiments:\n",
    "\tpattern = f'{results_dir}/{experiment}/*.npy'\n",
    "\n",
    "\tfor filename in glob(pattern):\n",
    "\t\ttechnique = basename(filename)[:basename(filename).index('_')]\n",
    "\t\twriter = pd.ExcelWriter(f'{results_dir}/{experiment}_{technique}.xlsx', engine='xlsxwriter')\n",
    "\t\tworksheet = writer.book.add_worksheet('rec')\n",
    "\t\twriter.sheets['rec'] = worksheet\n",
    "\t\tworksheet = writer.book.add_worksheet('antirec')\n",
    "\t\twriter.sheets['antirec'] = worksheet\n",
    "\t\tworksheet = writer.book.add_worksheet('rec_trt')\n",
    "\t\twriter.sheets['rec_trt'] = worksheet\n",
    "\n",
    "\t\tdata = np.load(filename, allow_pickle=True).item()\n",
    "\t\tdf = pd.DataFrame({'rec_t': data['rec_t'], 'rec_e': data['rec_e']})\n",
    "\t\tdf.to_excel(writer, 'rec')\n",
    "\t\tdf = pd.DataFrame({'antirec_t': data['antirec_t'], 'antirec_e': data['antirec_e']})\n",
    "\t\tdf.to_excel(writer, 'antirec')\n",
    "\t\tif 'rec_trt' in data:\n",
    "\t\t\tdf = pd.DataFrame({'rec_trt': np.squeeze(data['rec_trt'])})\n",
    "\t\t\tdf.to_excel(writer, 'rec_trt')\n",
    "\n",
    "\t\twriter.save()\n",
    "\t\twriter.close()\n",
    "\t\t\n",
    "\t\tprint(f'Wrote XLSX file: {results_dir}/{experiment}_{technique}.xlsx')\n",
    "\n"
   ]
  },
  {
   "cell_type": "code",
   "execution_count": null,
   "metadata": {},
   "outputs": [],
   "source": []
  }
 ],
 "metadata": {
  "interpreter": {
   "hash": "aee8b7b246df8f9039afb4144a1f6fd8d2ca17a180786b69acc140d282b71a49"
  },
  "kernelspec": {
   "display_name": "Python 3.9.9 64-bit",
   "language": "python",
   "name": "python3"
  },
  "language_info": {
   "codemirror_mode": {
    "name": "ipython",
    "version": 3
   },
   "file_extension": ".py",
   "mimetype": "text/x-python",
   "name": "python",
   "nbconvert_exporter": "python",
   "pygments_lexer": "ipython3",
   "version": "3.9.10"
  },
  "orig_nbformat": 4
 },
 "nbformat": 4,
 "nbformat_minor": 2
}
