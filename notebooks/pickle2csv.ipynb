{
 "cells": [
  {
   "cell_type": "code",
   "execution_count": 1,
   "metadata": {},
   "outputs": [],
   "source": [
    "import numpy as np\n",
    "import pandas as pd\n",
    "\n",
    "from glob import glob\n",
    "from os.path import basename"
   ]
  },
  {
   "cell_type": "markdown",
   "metadata": {},
   "source": [
    "User Input here:"
   ]
  },
  {
   "cell_type": "code",
   "execution_count": 2,
   "metadata": {},
   "outputs": [],
   "source": [
    "experiments = [\n",
    "\t'liver_os_sbrtVSnone',\n",
    "\t'liver_os_rfaVSnone',\n",
    "\t'liver_os_sbrtORrfa',\n",
    "\t'liver_os_sbrtVSrfa',\n",
    "\t'liver_pfs_sbrtVSnone',\n",
    "\t'liver_pfs_rfaVSnone',\n",
    "\t'liver_pfs_sbrtORrfa',\n",
    "\t'liver_pfs_sbrtVSrfa'\n",
    "]"
   ]
  },
  {
   "cell_type": "markdown",
   "metadata": {},
   "source": [
    "--- No User Input beyond this ---"
   ]
  },
  {
   "cell_type": "code",
   "execution_count": 3,
   "metadata": {},
   "outputs": [
    {
     "name": "stderr",
     "output_type": "stream",
     "text": [
      "/usr/local/lib/python3.9/site-packages/xlsxwriter/workbook.py:339: UserWarning: Calling close() on already closed file.\n",
      "  warn(\"Calling close() on already closed file.\")\n"
     ]
    },
    {
     "name": "stdout",
     "output_type": "stream",
     "text": [
      "Wrote XLSX file: ../experiments/results_2022-01-31/liver_os_sbrtVSnone_rsf.xlsx\n",
      "Wrote XLSX file: ../experiments/results_2022-01-31/liver_os_sbrtVSnone_deepsurv.xlsx\n",
      "Wrote XLSX file: ../experiments/results_2022-01-31/liver_os_rfaVSnone_deepsurv.xlsx\n",
      "Wrote XLSX file: ../experiments/results_2022-01-31/liver_os_rfaVSnone_rsf.xlsx\n",
      "Wrote XLSX file: ../experiments/results_2022-01-31/liver_os_sbrtORrfa_deepsurv.xlsx\n",
      "Wrote XLSX file: ../experiments/results_2022-01-31/liver_os_sbrtORrfa_rsf.xlsx\n",
      "Wrote XLSX file: ../experiments/results_2022-01-31/liver_os_sbrtVSrfa_deepsurv.xlsx\n",
      "Wrote XLSX file: ../experiments/results_2022-01-31/liver_os_sbrtVSrfa_rsf.xlsx\n",
      "Wrote XLSX file: ../experiments/results_2022-01-31/liver_pfs_sbrtVSnone_deepsurv.xlsx\n",
      "Wrote XLSX file: ../experiments/results_2022-01-31/liver_pfs_sbrtVSnone_rsf.xlsx\n",
      "Wrote XLSX file: ../experiments/results_2022-01-31/liver_pfs_rfaVSnone_deepsurv.xlsx\n",
      "Wrote XLSX file: ../experiments/results_2022-01-31/liver_pfs_rfaVSnone_rsf.xlsx\n",
      "Wrote XLSX file: ../experiments/results_2022-01-31/liver_pfs_sbrtORrfa_deepsurv.xlsx\n",
      "Wrote XLSX file: ../experiments/results_2022-01-31/liver_pfs_sbrtORrfa_rsf.xlsx\n",
      "Wrote XLSX file: ../experiments/results_2022-01-31/liver_pfs_sbrtVSrfa_deepsurv.xlsx\n",
      "Wrote XLSX file: ../experiments/results_2022-01-31/liver_pfs_sbrtVSrfa_rsf.xlsx\n"
     ]
    }
   ],
   "source": [
    "results_dir = '../experiments/results_2022-01-31'\n",
    "\n",
    "for experiment in experiments:\n",
    "\tpattern = f'{results_dir}/{experiment}/*.npy'\n",
    "\n",
    "\tfor filename in glob(pattern):\n",
    "\t\ttechnique = basename(filename)[:basename(filename).index('_')]\n",
    "\t\twith pd.ExcelWriter(f'{results_dir}/{experiment}_{technique}.xlsx', engine='xlsxwriter') as writer:\n",
    "\t\t\tworksheet = writer.book.add_worksheet('rec')\n",
    "\t\t\twriter.sheets['rec'] = worksheet\n",
    "\t\t\tworksheet = writer.book.add_worksheet('antirec')\n",
    "\t\t\twriter.sheets['antirec'] = worksheet\n",
    "\t\t\tworksheet = writer.book.add_worksheet('rec_trt')\n",
    "\t\t\twriter.sheets['rec_trt'] = worksheet\n",
    "\n",
    "\t\t\tdata = np.load(filename, allow_pickle=True).item()\n",
    "\t\t\tdf = pd.DataFrame({'rec_t': data['rec_t'], 'rec_e': data['rec_e']})\n",
    "\t\t\tdf.to_excel(writer, 'rec')\n",
    "\t\t\tdf = pd.DataFrame({'antirec_t': data['antirec_t'], 'antirec_e': data['antirec_e']})\n",
    "\t\t\tdf.to_excel(writer, 'antirec')\n",
    "\t\t\tif 'rec_trt' in data:\n",
    "\t\t\t\tdf = pd.DataFrame({'rec_trt': np.squeeze(data['rec_trt'])})\n",
    "\t\t\t\tdf.to_excel(writer, 'rec_trt')\n",
    "\n",
    "\t\t\twriter.save()\n",
    "\t\t\n",
    "\t\tprint(f'Wrote XLSX file: {results_dir}/{experiment}_{technique}.xlsx')\n",
    "\n"
   ]
  },
  {
   "cell_type": "code",
   "execution_count": null,
   "metadata": {},
   "outputs": [],
   "source": []
  }
 ],
 "metadata": {
  "interpreter": {
   "hash": "aee8b7b246df8f9039afb4144a1f6fd8d2ca17a180786b69acc140d282b71a49"
  },
  "kernelspec": {
   "display_name": "Python 3.9.9 64-bit",
   "language": "python",
   "name": "python3"
  },
  "language_info": {
   "codemirror_mode": {
    "name": "ipython",
    "version": 3
   },
   "file_extension": ".py",
   "mimetype": "text/x-python",
   "name": "python",
   "nbconvert_exporter": "python",
   "pygments_lexer": "ipython3",
   "version": "3.9.10"
  },
  "orig_nbformat": 4
 },
 "nbformat": 4,
 "nbformat_minor": 2
}
